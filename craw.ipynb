{
 "cells": [
  {
   "cell_type": "markdown",
   "metadata": {},
   "source": [
    "국민청원 답변 크롤러 입니다.\n",
    "======"
   ]
  },
  {
   "cell_type": "code",
   "execution_count": 16,
   "metadata": {},
   "outputs": [],
   "source": [
    "from urllib.request import urlopen\n",
    "from bs4 import BeautifulSoup\n",
    "import urllib\n",
    "import csv\n",
    "import re\n",
    "import pandas as pd\n",
    "import re"
   ]
  },
  {
   "cell_type": "code",
   "execution_count": 13,
   "metadata": {},
   "outputs": [],
   "source": [
    "def FindPetition(num):\n",
    "    global kr, other\n",
    "    url = \"https://www1.president.go.kr/petitions/\"\n",
    "    url = url + str(num)\n",
    "    try:\n",
    "        html = urlopen(url)\n",
    "    except urllib.error.HTTPError as e:\n",
    "        print(e)\n",
    "    else:\n",
    "        try:\n",
    "            bsObj = BeautifulSoup(html.read(), \"html.parser\")\n",
    "        except urllib.exceptions.SSLError as e:\n",
    "            print(e)\n",
    "        else:\n",
    "            progress = bsObj.find(\"div\",{\"class\":\"petitionsView_progress\"}).get_text()\n",
    "            title = bsObj.find(\"h3\",{\"class\":\"petitionsView_title\"}).get_text()\n",
    "            count = bsObj.find(\"h2\",{\"class\":\"petitionsView_count\"}).get_text()\n",
    "            petition_all = bsObj.find(\"div\",{\"class\":\"petitionsView_write\"}).get_text()\n",
    "            petition_overview = petition_all[petition_all.find(\"청원개요\")+4:petition_all.find(\"답변원고\")]\n",
    "            petition_answer = petition_all[petition_all.find(\"답변원고\")+4:]\n",
    "            \n",
    "            days = bsObj.find(\"ul\",{\"class\":\"petitionsView_info_list\"}).get_text()\n",
    "            days = days.split(\"\\n\")\n",
    "            category = days[1]\n",
    "            sdays = days[2]\n",
    "            edays = days[3]\n",
    "            person = days[4]\n",
    "            if(num%1000==0):\n",
    "                print(num)\n",
    "\n",
    "            try:\n",
    "                days = str(days[4:])\n",
    "                progress = str(progress[1:])\n",
    "                title = str(title)\n",
    "                count = str(count)\n",
    "                petition_overview = str(petition_overview)\n",
    "                petition_answer = str(petition_answer)\n",
    "                category = str(category[4:])\n",
    "                sdays = str(sdays[4:])\n",
    "                edays = str(edays[4:])\n",
    "                person = str(person[3:])\n",
    "                \n",
    "                #print(category,sdays,edays,person)\n",
    "            except:\n",
    "                print('err')\n",
    "            else:\n",
    "                csvRow = []\n",
    "                csvRow.extend([num,category,sdays,edays,person,progress,title,count,petition_overview,petition_answer])\n",
    "                writer.writerow(csvRow)\n",
    "                \n",
    "    return petition_overview"
   ]
  },
  {
   "cell_type": "code",
   "execution_count": 14,
   "metadata": {},
   "outputs": [],
   "source": [
    "datas = [1785,10949,18278,26024,45581,49083,57132,76020,79162,81026,95138,96427,101349,105105,113699,127921,134590,\n",
    "         141333,142600,148613,148806,151430, 157046, 164255, 165796, 173355, 174292, 178781, 187633,199622, 199778, 201953,\n",
    "         203181, 219348, 230552, 231701, 235102,236397, 242950,244045, 246489, 269548, 270921, 272632, 273112, 281200, 282903,\n",
    "         284845, 294226, 314584, 322420, 369690, 384676, 395955, 397558, 398030, 408609, 410447, 411485, 412722, 414891, 417147,\n",
    "         418376, 426349, 426834, 436901, 442093, 446686]"
   ]
  },
  {
   "cell_type": "code",
   "execution_count": 15,
   "metadata": {},
   "outputs": [],
   "source": [
    "csvFile = open(\"briefing.csv\", 'w', encoding='UTF-8')\n",
    "writer = csv.writer(csvFile)\n",
    "writer.writerow([\"num\",\"category\",\"start-days\",\"end-days\",\"person\",\"progress\",\"title\",\"count\",\"petition_overview\",\"petition_answer\"])\n",
    "for i in datas:\n",
    "    FindPetition(i)\n",
    "csvFile.close()"
   ]
  },
  {
   "cell_type": "code",
   "execution_count": null,
   "metadata": {},
   "outputs": [],
   "source": [
    "df[\"count\"] = df[\"count\"].map(find_int)"
   ]
  }
 ],
 "metadata": {
  "kernelspec": {
   "display_name": "PyTorch",
   "language": "python",
   "name": "pytorch"
  },
  "language_info": {
   "codemirror_mode": {
    "name": "ipython",
    "version": 3
   },
   "file_extension": ".py",
   "mimetype": "text/x-python",
   "name": "python",
   "nbconvert_exporter": "python",
   "pygments_lexer": "ipython3",
   "version": "3.7.2"
  }
 },
 "nbformat": 4,
 "nbformat_minor": 2
}
